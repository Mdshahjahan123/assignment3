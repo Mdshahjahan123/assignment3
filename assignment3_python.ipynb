{
 "cells": [
  {
   "cell_type": "code",
   "execution_count": null,
   "id": "a3c7151e",
   "metadata": {},
   "outputs": [],
   "source": [
    "#Q1: Write a Python function to sum all the numbers in a list.\n",
    "#Sample List : (8, 2, 3, 0, 7)"
   ]
  },
  {
   "cell_type": "code",
   "execution_count": 2,
   "id": "7f0c298e",
   "metadata": {},
   "outputs": [
    {
     "name": "stdout",
     "output_type": "stream",
     "text": [
      "20\n"
     ]
    }
   ],
   "source": [
    "def sum(numbers):\n",
    "    total = 0\n",
    "    for s in numbers:\n",
    "        total += s\n",
    "    return total\n",
    "print(sum((8, 2, 3, 0, 7)))"
   ]
  },
  {
   "cell_type": "code",
   "execution_count": null,
   "id": "b44d6cf1",
   "metadata": {},
   "outputs": [],
   "source": [
    "#Q2: Write a Python program to reverse a string.\n",
    "#Sample String : \"1234abcd\""
   ]
  },
  {
   "cell_type": "code",
   "execution_count": 7,
   "id": "9ca006f9",
   "metadata": {},
   "outputs": [
    {
     "data": {
      "text/plain": [
       "'dcba4321'"
      ]
     },
     "execution_count": 7,
     "metadata": {},
     "output_type": "execute_result"
    }
   ],
   "source": [
    "def string_reverse(string):\n",
    "    if len(string)== 0:\n",
    "        return string\n",
    "    else:\n",
    "        return string_reverse(string[1:])+string[0]\n",
    "string_reverse('1234abcd')"
   ]
  },
  {
   "cell_type": "code",
   "execution_count": null,
   "id": "999a38b4",
   "metadata": {},
   "outputs": [],
   "source": [
    "#Q3: Write a Python function that accepts a string and calculate the number of upper case letters and lower case letters.\n",
    "#Sample String : 'The quick Brow Fox'"
   ]
  },
  {
   "cell_type": "code",
   "execution_count": 6,
   "id": "9bac81ca",
   "metadata": {},
   "outputs": [
    {
     "name": "stdout",
     "output_type": "stream",
     "text": [
      "Original String :  The quick Brown Fox\n",
      "No. of Upper case characters :  3\n",
      "No. of Lower case Characters :  13\n"
     ]
    }
   ],
   "source": [
    "def sample_string(b):\n",
    "    q={\"UPPER_CASE\":0, \"LOWER_CASE\":0}\n",
    "    for z in b:\n",
    "        if z.isupper():\n",
    "           q[\"UPPER_CASE\"]+=1\n",
    "        elif z.islower():\n",
    "           q[\"LOWER_CASE\"]+=1\n",
    "        else:\n",
    "           pass\n",
    "    print (\"Original String : \",b)\n",
    "    print (\"No. of Upper case characters : \", q[\"UPPER_CASE\"])\n",
    "    print (\"No. of Lower case Characters : \", q[\"LOWER_CASE\"])\n",
    "\n",
    "sample_string('The quick Brown Fox')"
   ]
  },
  {
   "cell_type": "code",
   "execution_count": null,
   "id": "d3ef4976",
   "metadata": {},
   "outputs": [],
   "source": []
  },
  {
   "cell_type": "code",
   "execution_count": null,
   "id": "7f77e861",
   "metadata": {},
   "outputs": [],
   "source": []
  }
 ],
 "metadata": {
  "kernelspec": {
   "display_name": "Python 3 (ipykernel)",
   "language": "python",
   "name": "python3"
  },
  "language_info": {
   "codemirror_mode": {
    "name": "ipython",
    "version": 3
   },
   "file_extension": ".py",
   "mimetype": "text/x-python",
   "name": "python",
   "nbconvert_exporter": "python",
   "pygments_lexer": "ipython3",
   "version": "3.9.6"
  }
 },
 "nbformat": 4,
 "nbformat_minor": 5
}
